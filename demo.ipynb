{
 "cells": [
  {
   "cell_type": "markdown",
   "metadata": {},
   "source": [
    "# Data preprocessing"
   ]
  },
  {
   "cell_type": "markdown",
   "metadata": {},
   "source": [
    "fix bug with paths in test.yaml"
   ]
  },
  {
   "cell_type": "code",
   "execution_count": null,
   "metadata": {},
   "outputs": [],
   "source": [
    "!cp data/test.yaml test.yaml\n",
    "!sed -i 's/\\/net\\/pal-soc1.us.bosch.com\\/ifs\\/data\\/Shared_Exports\\/deep_learning_data\\/traffic_lights\\/university_run1/.\\/data\\/rgb\\/test/g' test.yaml"
   ]
  },
  {
   "cell_type": "markdown",
   "metadata": {},
   "source": [
    "create tfrecords to speedup training"
   ]
  },
  {
   "cell_type": "code",
   "execution_count": null,
   "metadata": {},
   "outputs": [],
   "source": [
    "! python3 bstld/tf_object_detection/to_tfrecords.py \\\n",
    "   --dataset_folder data \\\n",
    "   --train_yaml data/train.yaml \\\n",
    "   --test_yaml test.yaml \\\n",
    "   --additional_yaml data/additional_train.yaml"
   ]
  },
  {
   "cell_type": "markdown",
   "metadata": {},
   "source": [
    "# Train a model"
   ]
  },
  {
   "cell_type": "code",
   "execution_count": null,
   "metadata": {},
   "outputs": [],
   "source": [
    "! python3 /root/models/research/object_detection/legacy/train.py \\\n",
    "  -train_dir=trained -pipeline_config_path=ssd_mobilenet_v1.config"
   ]
  },
  {
   "cell_type": "markdown",
   "metadata": {},
   "source": [
    "# Evaluate a model"
   ]
  },
  {
   "cell_type": "code",
   "execution_count": null,
   "metadata": {},
   "outputs": [],
   "source": [
    "! python3 bstld/tf_object_detection/model_freezer.py \\\n",
    "  --train_dir trained"
   ]
  },
  {
   "cell_type": "markdown",
   "metadata": {},
   "source": [
    "apply model"
   ]
  },
  {
   "cell_type": "code",
   "execution_count": null,
   "metadata": {},
   "outputs": [],
   "source": [
    "#! python3 bstld/tf_object_detection/inference.py \\\n",
    "#  --frozen_graph trained/model.ckpt-128199_proto/frozen_inference_graph.pb \\\n",
    "#  --data_input test.yaml \\\n",
    "#  --out_folder /tmp/4\n",
    "\n",
    "from bstld.tf_object_detection.inference import label_file_inference\n",
    "\n",
    "graph_path = \"trained/model.ckpt-128199_proto/frozen_inference_graph.pb\"\n",
    "data_file = \"test.yaml\"\n",
    "threshold = .05\n",
    "results = label_file_inference(graph_path,\n",
    "                               data_file,\n",
    "                               json_out_path='',\n",
    "                               show=0,\n",
    "                               out_folder=None,\n",
    "                               threshold=threshold)\n"
   ]
  },
  {
   "cell_type": "markdown",
   "metadata": {},
   "source": [
    "compute metrics"
   ]
  },
  {
   "cell_type": "code",
   "execution_count": null,
   "metadata": {},
   "outputs": [],
   "source": [
    "from bstld.evaluation.evaluate import evaluate\n",
    "\n",
    "with open('test.yaml', 'r') as f:\n",
    "    gt = yaml.load(f)\n",
    "    \n",
    "res = evaluate(results, gt, \"res.json\")"
   ]
  }
 ],
 "metadata": {
  "kernelspec": {
   "display_name": "Python 3",
   "language": "python",
   "name": "python3"
  },
  "language_info": {
   "codemirror_mode": {
    "name": "ipython",
    "version": 3
   },
   "file_extension": ".py",
   "mimetype": "text/x-python",
   "name": "python",
   "nbconvert_exporter": "python",
   "pygments_lexer": "ipython3",
   "version": "3.6.8"
  }
 },
 "nbformat": 4,
 "nbformat_minor": 2
}
