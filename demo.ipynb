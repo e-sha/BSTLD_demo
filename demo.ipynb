{
 "cells": [
  {
   "cell_type": "code",
   "execution_count": null,
   "metadata": {},
   "outputs": [],
   "source": [
    "%matplotlib inline\n",
    "import random\n",
    "import numpy as np\n",
    "from pathlib import Path\n",
    "import matplotlib.pyplot as plt\n",
    "import cv2\n",
    "import yaml\n",
    "\n",
    "from bstld.tf_object_detection.inference import label_file_inference\n",
    "from bstld.evaluation.evaluate import evaluate\n",
    "from bstld.tf_object_detection import constants"
   ]
  },
  {
   "cell_type": "markdown",
   "metadata": {},
   "source": [
    "# Data preprocessing"
   ]
  },
  {
   "cell_type": "markdown",
   "metadata": {},
   "source": [
    "fix bug with paths in test.yaml"
   ]
  },
  {
   "cell_type": "code",
   "execution_count": null,
   "metadata": {},
   "outputs": [],
   "source": [
    "!cp data/test.yaml test.yaml\n",
    "!sed -i 's/\\/net\\/pal-soc1.us.bosch.com\\/ifs\\/data\\/Shared_Exports\\/deep_learning_data\\/traffic_lights\\/university_run1/.\\/data\\/rgb\\/test/g' test.yaml"
   ]
  },
  {
   "cell_type": "markdown",
   "metadata": {},
   "source": [
    "create tfrecords to speedup training"
   ]
  },
  {
   "cell_type": "code",
   "execution_count": null,
   "metadata": {},
   "outputs": [],
   "source": [
    "! python3 bstld/tf_object_detection/to_tfrecords.py \\\n",
    "   --dataset_folder data \\\n",
    "   --train_yaml data/train.yaml \\\n",
    "   --test_yaml test.yaml \\\n",
    "   --additional_yaml data/additional_train.yaml"
   ]
  },
  {
   "cell_type": "markdown",
   "metadata": {},
   "source": [
    "# Train a model\n",
    "\n",
    "Skip this block if you want to use pretrained model"
   ]
  },
  {
   "cell_type": "code",
   "execution_count": null,
   "metadata": {},
   "outputs": [],
   "source": [
    "! python3 /root/models/research/object_detection/legacy/train.py \\\n",
    "  -train_dir=trained -pipeline_config_path=ssd_mobilenet_v1.config"
   ]
  },
  {
   "cell_type": "markdown",
   "metadata": {},
   "source": [
    "# Evaluate a model"
   ]
  },
  {
   "cell_type": "markdown",
   "metadata": {},
   "source": [
    "Few helper functions"
   ]
  },
  {
   "cell_type": "code",
   "execution_count": null,
   "metadata": {},
   "outputs": [],
   "source": [
    "def preprocess_gt(gt):\n",
    "    res = []\n",
    "    scale_x = lambda x: x / constants.WIDTH\n",
    "    scale_y = lambda y: y / constants.HEIGHT\n",
    "    map_label = lambda l: constants.EVAL_ID_MAP[\n",
    "        constants.SIMPLIFIED_CLASSES[l]]\n",
    "    for obj in gt:\n",
    "        objs = [(x['x_min'], x['x_max'], x['y_min'], x['y_max'], x['label'])\n",
    "                for x in obj['boxes'] if not x['occluded']]\n",
    "        if len(objs) == 0:\n",
    "            res.append({'xmin':[], 'ymin':[], 'xmax':[], 'ymax':[],\n",
    "                        'class_labels':[], 'file': obj['path']})\n",
    "            continue\n",
    "        xmin, xmax, ymin, ymax, label = zip(*objs)\n",
    "        xmin = list(map(scale_x, xmin))\n",
    "        xmax = list(map(scale_x, xmax))\n",
    "        ymin = list(map(scale_y, ymin))\n",
    "        ymax = list(map(scale_y, ymax))\n",
    "        label = list(map(map_label, label))\n",
    "        res.append({'file': obj['path'], 'xmin': xmin, 'xmax': xmax,\n",
    "                    'ymin': ymin, 'ymax': ymax, 'class_labels': label})\n",
    "    return res\n",
    "\n",
    "def preprocess_results(results):\n",
    "    for res in results:\n",
    "        for k in ['detection_classes', 'detection_scores', 'detection_boxes']:\n",
    "            res[k] = res[k][0]\n",
    "        res['detection_classes'] -= 1\n",
    "        \n",
    "def draw_gt(img, gt):\n",
    "    keys = ['xmin', 'ymin', 'xmax', 'ymax', 'class_labels']\n",
    "    gt = [gt[k] for k in keys]\n",
    "    for xmin, ymin, xmax, ymax, c in list(zip(*gt)):\n",
    "        c = constants.CLASS_COLORS[c+1]\n",
    "        xmin, xmax = map(lambda x: int(x * constants.WIDTH), [xmin, xmax])\n",
    "        ymin, ymax = map(lambda x: int(x * constants.HEIGHT), [ymin, ymax])\n",
    "        cv2.rectangle(img, (xmin, ymin), (xmax, ymax), c, 4)\n",
    "        \n",
    "def draw_det(img, det, threshold=0.5):\n",
    "    b = det['detection_boxes']\n",
    "    c = det['detection_classes']\n",
    "    s = det['detection_scores']\n",
    "    det = zip(*(list(zip(*b)) + [c, s]))\n",
    "    for ymin, xmin, ymax, xmax, c, s in det:\n",
    "        if s < threshold:\n",
    "            continue\n",
    "        c = constants.CLASS_COLORS[c+1]\n",
    "        xmin, xmax = map(lambda x: int(x * constants.WIDTH), [xmin, xmax])\n",
    "        ymin, ymax = map(lambda x: int(x * constants.HEIGHT), [ymin, ymax])\n",
    "        cv2.rectangle(img, (xmin, ymin), (xmax, ymax), c, 4)\n",
    "        \n",
    "def show_plots(res):\n",
    "    plt.figure(1)\n",
    "    plt.suptitle('BSTLD precision/recall curves')\n",
    "    for i, key in enumerate(res['precisions']):\n",
    "        if len(res['precisions']) > 1:\n",
    "            plt.subplot(int('22' + str(i + 1)))  # 22 grid structure, i+1 index\n",
    "        plt.ylim((0, 1))\n",
    "        plt.xlim((0, 1))\n",
    "        plt.xlabel('recall')\n",
    "        plt.ylabel('precision')\n",
    "        plt.grid()\n",
    "        plt.plot(res['recalls'][key], res['precisions'][key])\n",
    "        plt.title(key)\n",
    "\n",
    "    plt.tight_layout(rect=[0, 0.03, 1, 0.95])\n",
    "    plt.show()"
   ]
  },
  {
   "cell_type": "markdown",
   "metadata": {},
   "source": [
    "Freeze trained model"
   ]
  },
  {
   "cell_type": "code",
   "execution_count": null,
   "metadata": {},
   "outputs": [],
   "source": [
    "! python3 bstld/tf_object_detection/model_freezer.py \\\n",
    "  --train_dir trained"
   ]
  },
  {
   "cell_type": "markdown",
   "metadata": {},
   "source": [
    "Apply model"
   ]
  },
  {
   "cell_type": "code",
   "execution_count": null,
   "metadata": {},
   "outputs": [],
   "source": [
    "! cp -r models/model.ckpt-128199_proto trained/"
   ]
  },
  {
   "cell_type": "code",
   "execution_count": null,
   "metadata": {},
   "outputs": [],
   "source": [
    "graph_path = 'trained/model.ckpt-128199_proto/frozen_inference_graph.pb'\n",
    "data_file = 'test.yaml'\n",
    "threshold = .05\n",
    "\n",
    "with open(data_file, 'r') as f:\n",
    "    gt = yaml.load(f)\n",
    "gt = preprocess_gt(gt)\n",
    "\n",
    "results = label_file_inference(graph_path,\n",
    "                               data_file,\n",
    "                               json_out_path='',\n",
    "                               show=0,\n",
    "                               out_folder=None,\n",
    "                               threshold=threshold)\n",
    "preprocess_results(results)"
   ]
  },
  {
   "cell_type": "markdown",
   "metadata": {},
   "source": [
    "Show results on a random image"
   ]
  },
  {
   "cell_type": "code",
   "execution_count": null,
   "metadata": {},
   "outputs": [],
   "source": [
    "k = random.randrange(len(gt))\n",
    "plt.rcParams['figure.figsize'] = [10, 5]\n",
    "\n",
    "img = cv2.imread(gt[k]['file'])\n",
    "draw_gt(img, gt[k])\n",
    "plt.title('ground truth')\n",
    "plt.imshow(img[...,::-1])\n",
    "plt.show()\n",
    "\n",
    "plt.title('detector results')\n",
    "img = cv2.imread(gt[k]['file'])\n",
    "draw_det(img, results[k], 0.5)\n",
    "plt.imshow(img[...,::-1])\n",
    "plt.show()"
   ]
  },
  {
   "cell_type": "markdown",
   "metadata": {},
   "source": [
    "compute metrics"
   ]
  },
  {
   "cell_type": "code",
   "execution_count": null,
   "metadata": {},
   "outputs": [],
   "source": [
    "res = evaluate(gt, results, \"res.json\")\n",
    "print('Mean AP value {:.3f}'.format(res['mean_ap']))\n",
    "print('Weighet mean AP value {:.3f}'.format(res['weighted_mean_ap']))"
   ]
  }
 ],
 "metadata": {
  "kernelspec": {
   "display_name": "Python 3",
   "language": "python",
   "name": "python3"
  },
  "language_info": {
   "codemirror_mode": {
    "name": "ipython",
    "version": 3
   },
   "file_extension": ".py",
   "mimetype": "text/x-python",
   "name": "python",
   "nbconvert_exporter": "python",
   "pygments_lexer": "ipython3",
   "version": "3.6.8"
  }
 },
 "nbformat": 4,
 "nbformat_minor": 2
}
